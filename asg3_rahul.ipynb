{
 "cells": [
  {
   "cell_type": "markdown",
   "metadata": {},
   "source": [
    "# Natural Language Processing- Word Embeddings\n",
    "\n",
    "The objective of the notebook was to get experience in natural language processing using Word2Vec, PCA, LLE and t-SNE; and analyze the embeddings to observe similarities between words in the given corpus, as well as to compare the different embeddings to the original (Word2Vec) embedding.\n",
    "\n",
    "The 'claim' feature of the Climate-Fever dataset taken from the Huggingface database was taken as the corpus for this notebook. The dataset has 1535 sentences. The claim_labels which classify the sentences into those that support a claim (0), reject a claim (1), and those that do not have enough evidence (2), were kept for the purpose of embedding analysis. The similarity analysis was done between neighboring vectors in the embeddings which were listed using k-Neighbor graphing. \n",
    "\n",
    "The libraries used are the Datasets library from Huggingface; the nltk library for text preprocessing; Gensim.models for Word2Vec and gensim.utils for some utility functions; and sklearn for PCA, LLE and t-SNE, besides pandas, numpy, seaborn and matplotlib for general operations and plotting. Some modules had to be downloaded such as 'wordnet', 'punkt' etc. from nltk. Such modules were downloaded after the compiler threw an error.\n",
    "\n",
    "### The notebook was split into the following sections: \n",
    "\n",
    "CM1-> Obtaining the corpus, text preprocessing, exploratory data analysis (some visualization), Word2Vec embedding and similarity analysis, arithmetic computations on the embedding, Comparison of arithmetic computation using pre-trained models\n",
    "\n",
    "CM2-> PCA embedding and similarity analysis; comparison between Wor2Vec and PCA embeddings\n",
    "\n",
    "CM3-> LLE embedding and similarity analysis; comparison between Wor2Vec and LLE embeddings\n",
    "\n",
    "CM4-> t-SNE embedding and similarity analysis; comparison between Wor2Vec and t-SNE embeddings"
   ]
  },
  {
   "cell_type": "markdown",
   "metadata": {},
   "source": [
    "## Question 1: Representation Learning for Text Embedding (CM1)\n",
    "### Obtaining the Corpus:"
   ]
  },
  {
   "cell_type": "code",
   "execution_count": 1,
   "metadata": {},
   "outputs": [],
   "source": [
    "import pandas as pd\n",
    "import numpy as np\n",
    "import matplotlib.pyplot as plt"
   ]
  },
  {
   "cell_type": "code",
   "execution_count": 2,
   "metadata": {},
   "outputs": [
    {
     "name": "stderr",
     "output_type": "stream",
     "text": [
      "Using custom data configuration default\n",
      "Reusing dataset climate_fever (C:\\Users\\rahul\\AppData\\Roaming\\SPB_Data\\.cache\\huggingface\\datasets\\climate_fever\\default\\1.0.1\\3b846b20d7a37bc0019b0f0dcbde5bf2d0f94f6874f7e4c398c579f332c4262c)\n"
     ]
    }
   ],
   "source": [
    "#Load Climate-Fever dataset:\n",
    "import datasets\n",
    "dataset = datasets.load_dataset('climate_fever', split = 'test');"
   ]
  },
  {
   "cell_type": "code",
   "execution_count": 3,
   "metadata": {},
   "outputs": [
    {
     "data": {
      "text/html": [
       "<div>\n",
       "<style scoped>\n",
       "    .dataframe tbody tr th:only-of-type {\n",
       "        vertical-align: middle;\n",
       "    }\n",
       "\n",
       "    .dataframe tbody tr th {\n",
       "        vertical-align: top;\n",
       "    }\n",
       "\n",
       "    .dataframe thead th {\n",
       "        text-align: right;\n",
       "    }\n",
       "</style>\n",
       "<table border=\"1\" class=\"dataframe\">\n",
       "  <thead>\n",
       "    <tr style=\"text-align: right;\">\n",
       "      <th></th>\n",
       "      <th>claim</th>\n",
       "      <th>claim_id</th>\n",
       "      <th>claim_label</th>\n",
       "      <th>evidences</th>\n",
       "    </tr>\n",
       "  </thead>\n",
       "  <tbody>\n",
       "    <tr>\n",
       "      <th>0</th>\n",
       "      <td>Global warming is driving polar bears toward e...</td>\n",
       "      <td>0</td>\n",
       "      <td>0</td>\n",
       "      <td>[{'article': 'Extinction risk from global warm...</td>\n",
       "    </tr>\n",
       "    <tr>\n",
       "      <th>1</th>\n",
       "      <td>The sun has gone into ‘lockdown’ which could c...</td>\n",
       "      <td>5</td>\n",
       "      <td>0</td>\n",
       "      <td>[{'article': 'Famine', 'entropy': 0.0, 'eviden...</td>\n",
       "    </tr>\n",
       "    <tr>\n",
       "      <th>2</th>\n",
       "      <td>The polar bear population has been growing.</td>\n",
       "      <td>6</td>\n",
       "      <td>1</td>\n",
       "      <td>[{'article': 'Polar bear', 'entropy': 0.693147...</td>\n",
       "    </tr>\n",
       "    <tr>\n",
       "      <th>3</th>\n",
       "      <td>Ironic' study finds more CO2 has slightly cool...</td>\n",
       "      <td>9</td>\n",
       "      <td>1</td>\n",
       "      <td>[{'article': 'Atmosphere of Mars', 'entropy': ...</td>\n",
       "    </tr>\n",
       "    <tr>\n",
       "      <th>4</th>\n",
       "      <td>Human additions of CO2 are in the margin of er...</td>\n",
       "      <td>10</td>\n",
       "      <td>1</td>\n",
       "      <td>[{'article': 'Carbon dioxide in Earth's atmosp...</td>\n",
       "    </tr>\n",
       "  </tbody>\n",
       "</table>\n",
       "</div>"
      ],
      "text/plain": [
       "                                               claim claim_id  claim_label  \\\n",
       "0  Global warming is driving polar bears toward e...        0            0   \n",
       "1  The sun has gone into ‘lockdown’ which could c...        5            0   \n",
       "2        The polar bear population has been growing.        6            1   \n",
       "3  Ironic' study finds more CO2 has slightly cool...        9            1   \n",
       "4  Human additions of CO2 are in the margin of er...       10            1   \n",
       "\n",
       "                                           evidences  \n",
       "0  [{'article': 'Extinction risk from global warm...  \n",
       "1  [{'article': 'Famine', 'entropy': 0.0, 'eviden...  \n",
       "2  [{'article': 'Polar bear', 'entropy': 0.693147...  \n",
       "3  [{'article': 'Atmosphere of Mars', 'entropy': ...  \n",
       "4  [{'article': 'Carbon dioxide in Earth's atmosp...  "
      ]
     },
     "execution_count": 3,
     "metadata": {},
     "output_type": "execute_result"
    }
   ],
   "source": [
    "#Convert dataset to pandas DataFrame:\n",
    "dataset = dataset.to_pandas()\n",
    "#Display sample of dataset:\n",
    "dataset.head()"
   ]
  },
  {
   "cell_type": "code",
   "execution_count": 4,
   "metadata": {},
   "outputs": [],
   "source": [
    "#Get the list of all sentences from the 'claim' feature as the text body:\n",
    "text = dataset.claim.to_list()"
   ]
  },
  {
   "cell_type": "code",
   "execution_count": 5,
   "metadata": {},
   "outputs": [
    {
     "data": {
      "text/plain": [
       "0    654\n",
       "2    474\n",
       "1    253\n",
       "3    154\n",
       "Name: claim_label, dtype: int64"
      ]
     },
     "execution_count": 5,
     "metadata": {},
     "output_type": "execute_result"
    }
   ],
   "source": [
    "dataset.claim_label.value_counts()"
   ]
  },
  {
   "cell_type": "markdown",
   "metadata": {},
   "source": [
    "### Text Preprocessing:\n",
    "Before the text was embedded using Word2Vec, some cleaning and preprocessing was done. First, all the text was set to lowercase to avoid distinction between the same words with different capitalizations as the embedding functions are case-sensitive. Second, the contractions such as don't, can't etc. were fixed using the contractions library (contractions.fix). The punctuations and numbers were removed using the regular expressions library. Then, the words in each sentence were tokenized using nltk function word_tokenize, after which the stop words (the, all, in etc.) were removed from the tokenized corpus. The process of Stemming and Lemmatization was considered for the corpus. From the experiments, stemming using the PorterStemmer and SnowballStemmer from nltk did not result in good root words. On the other hand, lemmatization using the WordNetLemmatizer did not work well for the corpus without POS tokens as the default considers all words nouns, but worked well with POS tokens (better than stemming). Hence the corpus was lemmatized which resulted in the final preprocessed corpus.\n",
    "\n",
    "The preprocessing flow was referenced from the articles 'Text Preprocessing with NLTK' (https://towardsdatascience.com/text-preprocessing-with-nltk-9de5de891658) and 'Text Preprocessing in Python: Steps, Tools, and Examples' (https://medium.com/@datamonsters/text-preprocessing-in-python-steps-tools-and-examples-bf025f872908). "
   ]
  },
  {
   "cell_type": "code",
   "execution_count": 7,
   "metadata": {},
   "outputs": [],
   "source": [
    "#Text Preprocessing:\n",
    "import string\n",
    "import re\n",
    "import nltk\n",
    "import contractions\n",
    "\n",
    "stop_words = nltk.corpus.stopwords.words('english')+[\" \"]+[\"\"]\n",
    "\n",
    "for i in range(len(text)-1):\n",
    "    #Change all uppercase letters to lowercase:\n",
    "    text[i] = text[i].lower()\n",
    "    #Expand contractions:\n",
    "    text[i] = contractions.fix(text[i])\n",
    "    #Remove all punctuation marks:\n",
    "    text[i] = re.sub(r'[^\\w\\s]',' ',text[i])\n",
    "    #Remove all numbers: \n",
    "    text[i] = re.sub(r'\\d+','',text[i])\n",
    "    #Tokenize the sentences:\n",
    "    text[i] = nltk.word_tokenize(text[i])\n",
    "    #Remove stopwords, empty spaces, simgle character words:\n",
    "    text[i] = [x for x in text[i] if x not in stop_words and len(x)>1]"
   ]
  },
  {
   "cell_type": "code",
   "execution_count": 8,
   "metadata": {},
   "outputs": [
    {
     "name": "stdout",
     "output_type": "stream",
     "text": [
      "['hardli', 'warm', 'better', 'slightli', 'tri', 'caus', 'studi'] \n",
      "\n",
      "['hard', 'warm', 'better', 'slight', 'tri', 'caus', 'studi']\n"
     ]
    }
   ],
   "source": [
    "#Stemming test:\n",
    "p_stemmer = nltk.stem.PorterStemmer()\n",
    "s_stemmer = nltk.SnowballStemmer(\"english\")\n",
    "\n",
    "temp = [\"hardly\",\"warming\",\"better\",\"slightly\",\"tried\",\"cause\",\"studies\"]\n",
    "print([p_stemmer.stem(x) for x in temp],\"\\n\")\n",
    "print([s_stemmer.stem(x) for x in temp])"
   ]
  },
  {
   "cell_type": "markdown",
   "metadata": {},
   "source": [
    "From the above test, it can be seen that stemming does not take into account the lemma or actual root word as it happens in lemmatizing (below). It is also evident that the snowball stemmer is objectively better than the porter stemmer."
   ]
  },
  {
   "cell_type": "code",
   "execution_count": 9,
   "metadata": {},
   "outputs": [
    {
     "name": "stdout",
     "output_type": "stream",
     "text": [
      "['hardly', 'warming', 'better', 'slightly', 'tried', 'cause', 'study'] \n",
      "\n"
     ]
    }
   ],
   "source": [
    "#Lemmatization without POS:\n",
    "from nltk.stem import WordNetLemmatizer\n",
    "  \n",
    "lemmatizer = WordNetLemmatizer()\n",
    "print([lemmatizer.lemmatize(x) for x in temp],\"\\n\")"
   ]
  },
  {
   "cell_type": "markdown",
   "metadata": {},
   "source": [
    "Lemmatizing without POS tagging leads to the lemmatizer treating all tokens as nouns, which results in the above situation. To rectify and get proper lemmas, part of speech tagging is required. The below code snippet does the POS tagging, converts it to the wordnet form, and lemmatizes each word based on the tag. \n",
    "\n",
    "The code was referenced from the article 'Lemmatization Approaches with Examples in Python' by Selva Prabhakaran (https://www.machinelearningplus.com/nlp/lemmatization-examples-python/#wordnetlemmatizerwithappropriatepostag)"
   ]
  },
  {
   "cell_type": "code",
   "execution_count": 10,
   "metadata": {},
   "outputs": [],
   "source": [
    "#Lemmatization with POS:\n",
    "from nltk.stem import WordNetLemmatizer\n",
    "from nltk.corpus import wordnet\n",
    "\n",
    "lemmatizer = WordNetLemmatizer()\n",
    "\n",
    "def get_wordnet_pos(word):\n",
    "    #Map POS tag to first character lemmatize() accepts(wordnet format):\n",
    "    tag = nltk.pos_tag([word])[0][1][0].upper()\n",
    "    tag_dict = {\"J\": wordnet.ADJ,\n",
    "                \"N\": wordnet.NOUN,\n",
    "                \"V\": wordnet.VERB,\n",
    "                \"R\": wordnet.ADV}\n",
    "\n",
    "    return tag_dict.get(tag, wordnet.NOUN) #Default is noun\n",
    "\n",
    "#Lemmatize every word in list of list:\n",
    "for i in range(len(text)-1):\n",
    "    for j in range(len(text[i])-1):\n",
    "        text[i][j] = lemmatizer.lemmatize(text[i][j], get_wordnet_pos(text[i][j]))\n",
    "    #Make sure the lemmatized words do not fall under stop words/single characters:\n",
    "    text[i] = [x for x in text[i] if x not in stop_words and len(x)>1]"
   ]
  },
  {
   "cell_type": "markdown",
   "metadata": {},
   "source": [
    "Getting the full list of unique words, i.e., tokens in the corpus, the effectiveness of the NLTK lemmatizer with POS tagging can be observed-"
   ]
  },
  {
   "cell_type": "code",
   "execution_count": 11,
   "metadata": {},
   "outputs": [
    {
     "name": "stdout",
     "output_type": "stream",
     "text": [
      "Number of unique tokens:  3135 \n",
      "\n",
      "Sample of unique tokens-> ['spot', 'maintain', 'reveals', 'generous', 'swift', 'discovery', 'penalize', 'giant', 'manifest', 'statewide', 'ambitious', 'barrier', 'write', 'bergen', 'renewable', 'easily', 'force', 'due', 'lake', 'notion'] \n",
      "\n"
     ]
    }
   ],
   "source": [
    "#Get all unique words:\n",
    "full_list=[]\n",
    "for i in range(len(text)-1):\n",
    "    for j in range(len(text[i])-1):\n",
    "        full_list.append(text[i][j])\n",
    "all_tokens = list(set(full_list)) #(To get only the unique strings)\n",
    "print(\"Number of unique tokens: \",len(all_tokens),\"\\n\")\n",
    "print(\"Sample of unique tokens->\",all_tokens[0:20],\"\\n\")"
   ]
  },
  {
   "cell_type": "markdown",
   "metadata": {},
   "source": [
    "### Exploratory Data Analysis:\n",
    "Some analysis was done on the data to identify words that occur frequently (which may thus have richer meanings). The most frequently occuring words were displayed in a Word Cloud. Also, all the words which occured less than 10 times in the corpus were discarded. Some adjustments to the text body were also made in light of the data analysis.\n",
    "\n",
    "The methods were referenced from the blog post 'Exploratory Data Analysis for Natural Language Processing: A Complete Guide to Python Tools' by Shahul ES (https://neptune.ai/blog/exploratory-data-analysis-natural-language-processing-tools)"
   ]
  },
  {
   "cell_type": "code",
   "execution_count": 12,
   "metadata": {},
   "outputs": [
    {
     "data": {
      "image/png": "[encoded data removed]",
      "text/plain": [
       "<Figure size 1440x720 with 1 Axes>"
      ]
     },
     "metadata": {
      "needs_background": "light"
     },
     "output_type": "display_data"
    }
   ],
   "source": [
    "#Word frequency- most frequently occuring words\n",
    "import collections\n",
    "import seaborn as sns\n",
    "counter=collections.Counter(full_list)\n",
    "most=counter.most_common()\n",
    "\n",
    "x, y= [], []\n",
    "for word,count in most[:40]:\n",
    "    if (word not in stop_words):\n",
    "        x.append(word)\n",
    "        y.append(count)\n",
    "fig = plt.figure(figsize=(20,10))\n",
    "sns.barplot(x=y,y=x);"
   ]
  },
  {
   "cell_type": "markdown",
   "metadata": {},
   "source": [
    "From the above plot, it can be observed that 'warm' is the most frequently occuring term (~350), while 'global' and 'climate' come close, having frequency greater than 300. Also from the plot, some combinations of words such as 'sea' and 'level' which have same counts are obviously meant to go together. For simplicity, such words were left uncombined. On the other hand, 'increase' and 'rise' are very close in frequency and share the same meaning and context. Intuitively, the words should be similar. \n",
    "\n",
    "'co', 'carbon' and 'dioxide' share a different kind of relation here. Some of the 'carbon' terms belong alongside 'dioxide' while the rest should be standalone. While there is definitely a relation between carbon and carbon dioxide (carbon + oxygen = carbon dioxide), it is doubtful if such a relation can be captured from this text body. Sentences containg the link between oxygen and carbon would be required for that connection.\n",
    "\n",
    "In addition to understanding the data better, taking advantage of the estabilished Counter, all the tokens having frequency  lower than 20 were removed from the corpus in this step (code below). The number of tokens in the corpus then is 146."
   ]
  },
  {
   "cell_type": "code",
   "execution_count": 13,
   "metadata": {},
   "outputs": [
    {
     "name": "stdout",
     "output_type": "stream",
     "text": [
      "Number of unique tokens:  146 \n",
      "\n"
     ]
    }
   ],
   "source": [
    "#Discarding words occuring less than 20 times in corpus:\n",
    "for i in range(len(text)-1):\n",
    "    text[i] = [word for word in text[i] if int(counter[word])>19]\n",
    "\n",
    "full_list=[]\n",
    "for i in range(len(text)-1):\n",
    "    for j in range(len(text[i])-1):\n",
    "        full_list.append(text[i][j])\n",
    "all_tokens = list(set(full_list)) #(To get only the unique strings)\n",
    "print(\"Number of unique tokens: \",len(all_tokens),\"\\n\")"
   ]
  },
  {
   "cell_type": "markdown",
   "metadata": {},
   "source": [
    "From the above calculation, it can be seen that there are only 146 tokens in the corpus after preprocessing and elimination of infrequent (frequency<20) tokens. This agrees well with the list of unique tokens generated from the claims in the paper describing the Climate-Fever dataset- 'CLIMATE-FEVER: A Dataset for Verification of Real-World Climate Claims' by T. Diggelmann, J. Boyd-Graber, J. Bulian, M. Ciaramita, and M. Leipold (https://www.researchgate.net/publication/346555104), where the authors state there are 150 most important tokens (including a few bigrams).    "
   ]
  },
  {
   "cell_type": "code",
   "execution_count": 14,
   "metadata": {},
   "outputs": [
    {
     "data": {
      "image/png": "[encoded data removed]",
      "text/plain": [
       "<Figure size 864x864 with 1 Axes>"
      ]
     },
     "metadata": {
      "needs_background": "light"
     },
     "output_type": "display_data"
    }
   ],
   "source": [
    "#Wordcloud:\n",
    "from wordcloud import WordCloud, STOPWORDS\n",
    "stops = set(STOPWORDS)\n",
    "\n",
    "wordcloud = WordCloud(background_color='white',stopwords=stops,max_words=100,max_font_size=30,scale=3,random_state=0)\n",
    "wordcloud=wordcloud.generate(str(full_list))\n",
    "\n",
    "fig = plt.figure(1,figsize=(12, 12))\n",
    "plt.axis('off')\n",
    "\n",
    "plt.imshow(wordcloud)\n",
    "plt.show()"
   ]
  },
  {
   "cell_type": "markdown",
   "metadata": {},
   "source": [
    "In the wordcloud, some obvious bigrams can be observed- climate change, carbon dioxide, and global warm(ing). While these phrases were not added to the corpus, it is good to know their presence. "
   ]
  },
  {
   "cell_type": "code",
   "execution_count": 15,
   "metadata": {},
   "outputs": [],
   "source": [
    "#Train-test split:(1228,307)\n",
    "train_set = text[0:1227]\n",
    "test_set = text[1228:1534]"
   ]
  },
  {
   "cell_type": "markdown",
   "metadata": {},
   "source": [
    "## CM1 Part 1: \n",
    "### Word2Vec Embedding over the entire corpus (train and test set)\n",
    "The original word2vec embedding model was created for the corpus using the Gensim Word2Vec function. As suggested in the clarifications on Piazza, the word2vec model was built using the entire corpus(training + testing). In the process of training the model, first the model was initialized with the parameters in the below code snippet. As the algorithm uses the continuous bag of words method as default, it is expected that the implicit relationships between the words are somewhat represented in the embedding. \n",
    "\n",
    "The vector size was set to 50, for which the similarity results were satisfactory. Further testing was done for size = 100, the average similarity between neighbors for the embedding space increased, and by all accounts higher dimensionality should ensure more hidden relationships are found. However, it may mean that the associations between the words (similarity) becomes exaggerated, hence size = 50 was retained. A negative sampling of 10 was set to ensure the model does not draw false relationships between words. From experiments done (results not shown here), a negative sampling of 0 drastically decreased the similarity between words, making the model near useless for learning. Negative sampling of 5 and 10 worked well. The window size was set to 2.\n",
    "\n",
    "The building of the vocabulary and training of the model on the dataset are split into two steps for clarity. Another argument of note is the number of training epochs the dataset is subjected to. Increasing this parameter allowed the model to discriminate between the words better, however, it also led to highly similar words being farther apart in similarity than they should be. Hence, due to the small dataset, the number of epochs was set to 30, which was enough to not bunch all the words together, but also not so high that the meaningful connections are broken up. \n",
    "\n",
    "The bags of words for the training and testing split sets were then taken and vectors for each bag were found from the trained model.\n",
    "\n",
    "The reference for this part was from the Gensim API reference for Word2Vec (https://radimrehurek.com/gensim/models/word2vec.html)."
   ]
  },
  {
   "cell_type": "code",
   "execution_count": 16,
   "metadata": {},
   "outputs": [],
   "source": [
    "#Word2Vec Embedding:\n",
    "from gensim.models import Word2Vec\n",
    "model = Word2Vec(min_count=20,window=2,size=50,negative=10,seed=0)"
   ]
  },
  {
   "cell_type": "code",
   "execution_count": 17,
   "metadata": {},
   "outputs": [],
   "source": [
    "model.build_vocab(text)"
   ]
  },
  {
   "cell_type": "code",
   "execution_count": 18,
   "metadata": {},
   "outputs": [],
   "source": [
    "model.train(text,total_examples=model.corpus_count,epochs=30)\n",
    "model.save(\"word2vec.model\");"
   ]
  },
  {
   "cell_type": "code",
   "execution_count": 19,
   "metadata": {},
   "outputs": [],
   "source": [
    "word_vectors = model.wv #Dictionary of vectors for each token."
   ]
  },
  {
   "cell_type": "markdown",
   "metadata": {},
   "source": [
    "With the token-vector dictionary at hand, the test and training set vector were found:"
   ]
  },
  {
   "cell_type": "code",
   "execution_count": 20,
   "metadata": {},
   "outputs": [],
   "source": [
    "#Unique items in test set (bag of words):\n",
    "testlist=[]\n",
    "for i in range(len(test_set)-1):\n",
    "    for j in range(len(test_set[i])-1):\n",
    "        testlist.append(test_set[i][j])\n",
    "test_tokens = set(testlist)"
   ]
  },
  {
   "cell_type": "code",
   "execution_count": 289,
   "metadata": {},
   "outputs": [],
   "source": [
    "test_vectors = word_vectors[test_tokens]"
   ]
  },
  {
   "cell_type": "code",
   "execution_count": 22,
   "metadata": {},
   "outputs": [],
   "source": [
    "#Unique items in train set (bag of words):\n",
    "trainlist=[]\n",
    "for i in range(len(train_set)-1):\n",
    "    for j in range(len(train_set[i])-1):\n",
    "        trainlist.append(train_set[i][j])\n",
    "train_tokens = set(trainlist)"
   ]
  },
  {
   "cell_type": "code",
   "execution_count": 23,
   "metadata": {},
   "outputs": [],
   "source": [
    "train_vectors = word_vectors[train_tokens]"
   ]
  },
  {
   "cell_type": "code",
   "execution_count": 24,
   "metadata": {},
   "outputs": [
    {
     "data": {
      "text/plain": [
       "141"
      ]
     },
     "execution_count": 24,
     "metadata": {},
     "output_type": "execute_result"
    }
   ],
   "source": [
    "len(test_vectors)"
   ]
  },
  {
   "cell_type": "code",
   "execution_count": 25,
   "metadata": {},
   "outputs": [
    {
     "data": {
      "text/plain": [
       "146"
      ]
     },
     "execution_count": 25,
     "metadata": {},
     "output_type": "execute_result"
    }
   ],
   "source": [
    "len(train_vectors)"
   ]
  },
  {
   "cell_type": "code",
   "execution_count": 26,
   "metadata": {},
   "outputs": [
    {
     "data": {
      "text/plain": [
       "146"
      ]
     },
     "execution_count": 26,
     "metadata": {},
     "output_type": "execute_result"
    }
   ],
   "source": [
    "all_tokens = test_tokens.union(train_tokens)\n",
    "len(word_vectors[all_tokens])"
   ]
  },
  {
   "cell_type": "markdown",
   "metadata": {},
   "source": [
    "## CM1 Part 2:\n",
    "### Analysis of Word2Vec embedding space (test set vectors)\n",
    "To analyze the embedding space, first the top similarities of important words (from the visualizations in the previous section) were observed. After getting an idea of the space, the neighbors of each vector were found in the embedding space using the sklearn kneighbors graph function. From the matrix returned by the function, the cosine simmilarities between each pair of neighbors were found and the similarity values were averaged over the entire set. Further evaluation of the embedding was done using knn (discussed more later)."
   ]
  },
  {
   "cell_type": "code",
   "execution_count": 27,
   "metadata": {},
   "outputs": [
    {
     "name": "stdout",
     "output_type": "stream",
     "text": [
      "'cloud', 'sun': 0.9620\n",
      "\n",
      "'temperature', 'warm': 0.9805\n",
      "\n",
      "'cool', 'warm': 0.9950\n",
      "\n",
      "'temperature', 'degree': 0.9903\n",
      "\n",
      "'review', 'paper': 0.8252\n",
      "\n",
      "'scientist', 'gas': 0.8770\n",
      "\n",
      "'extreme', 'ice': 0.6671\n",
      "\n",
      "'carbon', 'accord': 0.7395\n",
      "\n"
     ]
    }
   ],
   "source": [
    "#Checking if words with similar context are similar (Preliminary evaluation):\n",
    "\n",
    "similarity = word_vectors.similarity('cloud', 'atmosphere')\n",
    "print(f\"'cloud', 'sun': {similarity:.4f}\\n\")\n",
    "similarity = word_vectors.similarity('temperature', 'warm')\n",
    "print(f\"'temperature', 'warm': {similarity:.4f}\\n\")\n",
    "similarity = word_vectors.similarity('cool', 'warm')\n",
    "print(f\"'cool', 'warm': {similarity:.4f}\\n\")\n",
    "similarity = word_vectors.similarity('temperature', 'degree')\n",
    "print(f\"'temperature', 'degree': {similarity:.4f}\\n\")\n",
    "similarity = word_vectors.similarity('review', 'paper')\n",
    "print(f\"'review', 'paper': {similarity:.4f}\\n\")\n",
    "similarity = word_vectors.similarity('ocean','long')\n",
    "print(f\"'scientist', 'gas': {similarity:.4f}\\n\")\n",
    "similarity = word_vectors.similarity('extreme', 'ice')\n",
    "print(f\"'extreme', 'ice': {similarity:.4f}\\n\")\n",
    "similarity = word_vectors.similarity('carbon', 'accord')\n",
    "print(f\"'carbon', 'accord': {similarity:.4f}\\n\")"
   ]
  },
  {
   "cell_type": "markdown",
   "metadata": {},
   "source": [
    "Just from a preliminary look using the above relations, it can be observed that shallow relationships have been formed by the model. 'cloud' and 'sun', 'temperature' and 'degree', 'review' and 'paper' all have relatively high similarity compare to the pairs of 'extreme' and 'ice' or 'carbon' and 'accord'. While this is not sufficient to evaluate the embedding, it can be said that it somewhat works. Further looking at list of similar words for some tokens (nearest neighbors)->"
   ]
  },
  {
   "cell_type": "code",
   "execution_count": 28,
   "metadata": {},
   "outputs": [
    {
     "name": "stdout",
     "output_type": "stream",
     "text": [
      "Words most similar to 'temperature' with similarity scores:\n",
      "\n",
      " [('warmer', 0.9911268949508667), ('show', 0.9910339117050171), ('period', 0.9909160733222961), ('degree', 0.9902938604354858), ('planet', 0.9900715947151184), ('surface', 0.9884389638900757), ('half', 0.988142728805542), ('even', 0.9870049953460693), ('observe', 0.9853751063346863), ('past', 0.984803318977356)]\n",
      "\n",
      "Words most similar to 'warm' with similarity scores:\n",
      "\n",
      " [('cool', 0.9950402975082397), ('natural', 0.9905056357383728), ('sun', 0.9886387586593628), ('period', 0.9881769418716431), ('cycle', 0.9871165752410889), ('global', 0.9856026768684387), ('planet', 0.9836512804031372), ('show', 0.9834149479866028), ('half', 0.9831357598304749), ('evidence', 0.9831090569496155)]\n",
      "\n",
      "Words most similar to 'arctic' with similarity scores:\n",
      "\n",
      " [('melt', 0.9963986873626709), ('antarctica', 0.9886726140975952), ('accelerate', 0.9866421222686768), ('greenland', 0.9742289185523987), ('rate', 0.9680543541908264), ('polar', 0.9641940593719482), ('sheet', 0.9640098214149475), ('low', 0.9610529541969299), ('ice', 0.9590671062469482), ('rise', 0.9528449177742004)]\n",
      "\n",
      "Words most similar to 'dioxide' with similarity scores:\n",
      "\n",
      " [('carbon', 0.9758464097976685), ('emission', 0.9724830389022827), ('atmosphere', 0.9602726697921753), ('gas', 0.9402657747268677), ('human', 0.9366796016693115), ('reduce', 0.9361060857772827), ('greenhouse', 0.9292978048324585), ('cost', 0.9253300428390503), ('co', 0.9229758977890015), ('per', 0.9197268486022949)]\n",
      "\n",
      "Words most similar to 'sea' with similarity scores:\n",
      "\n",
      " [('ice', 0.969588041305542), ('sheet', 0.9572587609291077), ('level', 0.95460444688797), ('greenland', 0.9507186412811279), ('accelerate', 0.9466995596885681), ('rise', 0.9438872337341309), ('antarctica', 0.9403681755065918), ('melt', 0.929179310798645), ('arctic', 0.9253331422805786), ('rate', 0.8527766466140747)]\n",
      "\n",
      "Words most similar to 'ocean' with similarity scores:\n",
      "\n",
      " [('since', 0.9913049340248108), ('go', 0.9910231828689575), ('come', 0.9903347492218018), ('little', 0.9889391660690308), ('end', 0.9887422323226929), ('large', 0.988531231880188), ('could', 0.9882670640945435), ('also', 0.9882258176803589), ('get', 0.9882123470306396), ('less', 0.9878295063972473)]\n"
     ]
    }
   ],
   "source": [
    "result = word_vectors.most_similar('temperature')\n",
    "print(\"Words most similar to 'temperature' with similarity scores:\\n\\n\",result)\n",
    "result = word_vectors.most_similar('warm')\n",
    "print(\"\\nWords most similar to 'warm' with similarity scores:\\n\\n\",result)\n",
    "result = word_vectors.most_similar('arctic')\n",
    "print(\"\\nWords most similar to 'arctic' with similarity scores:\\n\\n\",result)\n",
    "result = word_vectors.most_similar('dioxide')\n",
    "print(\"\\nWords most similar to 'dioxide' with similarity scores:\\n\\n\",result)\n",
    "result = word_vectors.most_similar('sea')\n",
    "print(\"\\nWords most similar to 'sea' with similarity scores:\\n\\n\",result)\n",
    "result = word_vectors.most_similar('ocean')\n",
    "print(\"\\nWords most similar to 'ocean' with similarity scores:\\n\\n\",result)"
   ]
  },
  {
   "cell_type": "markdown",
   "metadata": {},
   "source": [
    "From the above calculations, the relationships between the embedded vectors can be observed. While for quite a few words, the model has identified other words close in meaning as similar, it fails to do so for some others. A notable failure is for the word 'ocean' which has clearly been placed in the wrong neighborhood. On the other hand, 'arctic' is well connected to words close in context and meaning to it, such as 'melt', 'antarctica', 'ice' and 'greenland'. This exposes the need for a larger dataset so that the correct connections between the words are maintained and the mistakes rectified. \n",
    "\n",
    "Another point to note is that many of the words considered similar by the model are those that appear alongside the word in consideration, i.e, are n-grams, and do not have much in common from a lexical perspective. \n",
    "\n",
    "Below, the embedding space is analyzed using the kneighbors graph, which allows us to see the average similarity scores for the embedding, get the recall@k value for the embedding as well as the knn accuracy, which can be used to evaluate the embedding. "
   ]
  },
  {
   "cell_type": "code",
   "execution_count": 232,
   "metadata": {},
   "outputs": [
    {
     "name": "stdout",
     "output_type": "stream",
     "text": [
      "Average cosine similarity for Word2Vec embedding:\n",
      "\n",
      "k = 1:  0.9893233928274601\n",
      "k = 2:  0.9875319460605053\n",
      "k = 4:  0.9848724798107824\n",
      "k = 8:  0.9806166845010528\n",
      "k = 16:  0.9739706702266179\n",
      "k = 32:  0.9658328658300088\n"
     ]
    }
   ],
   "source": [
    "#Analyzing the word2vec embedding of the test set:\n",
    "from sklearn.neighbors import kneighbors_graph\n",
    "from scipy.sparse import csr_matrix\n",
    "\n",
    "N = [1,2,4,8,16,32]\n",
    "avg_cossim_w2v = [0,0,0,0,0,0]\n",
    "for n in [0,1,2,3,4,5]:\n",
    "    #Get neighbors and similarities for all test_vectors using kneighbors graph:\n",
    "    mat = kneighbors_graph(test_vectors, N[n], metric='cosine', mode='distance', include_self=False)\n",
    "    mat.data = 1 - mat.data  # to similarity\n",
    "    #Getting average cosine similarity between each test_vector and its neighbors:\n",
    "    avg_cossim_w2v[n] = mat.sum()/mat.count_nonzero()\n",
    "\n",
    "print(\"Average cosine similarity for Word2Vec embedding:\\n\")\n",
    "print(\"k = 1: \",avg_cossim_w2v[0])\n",
    "print(\"k = 2: \",avg_cossim_w2v[1])\n",
    "print(\"k = 4: \",avg_cossim_w2v[2])\n",
    "print(\"k = 8: \",avg_cossim_w2v[3])\n",
    "print(\"k = 16: \",avg_cossim_w2v[4])\n",
    "print(\"k = 32: \",avg_cossim_w2v[5])"
   ]
  },
  {
   "cell_type": "markdown",
   "metadata": {},
   "source": [
    "In the above code snippet, the number of neighbors is arbitrarily taken as 8, for which the average cosine similarity from the kneighbors graph was found to be 0.98. By increasing the number of neighbors(second argument in nkneighbors_graph()), it was possible to observe that the average similarity value dropped, which was as expected from the embedding space. The high cosine similarity values can be attributed to the fact that the dataset is too small to generate more meaningful relationships between the words. \n",
    "\n",
    "To get the recall@k and accuracy values, it is neccessary to label the vectors so that the retrieved queries can be evaluated as relevant or not. Since the Climate-Fever dataset came with claim_labels, they were used to determine the labels for the vector samples. Most tokens in the corpus belong to multiple sentences, some having different claim_labels. This led to each vector having multiple counts of one or more labels. The label under which each vector occured most frequently was assigned to that vector."
   ]
  },
  {
   "cell_type": "code",
   "execution_count": 275,
   "metadata": {},
   "outputs": [],
   "source": [
    "#Getting labels for the words:\n",
    "\n",
    "#Write the list of tokens into a dataframe->\n",
    "df = pd.DataFrame(np.column_stack([list(all_tokens)]),columns=['tokens'])\n",
    "header_list = ['tokens','count0','count1','count2','count3']\n",
    "df = df.reindex(columns = header_list)\n",
    "df = df.fillna(0)\n",
    "\n",
    "#Then for each token, search for instances in claims. If present in claim, update count of labels associated with the token->\n",
    "temp_count = 0\n",
    "\n",
    "for i in range(len(df)-1):\n",
    "    df.loc[i,'count0']=0\n",
    "    df.loc[i,'count1']=0\n",
    "    df.loc[i,'count2']=0\n",
    "    df.loc[i,'count3']=0\n",
    "    for j in range(len(text)-1):\n",
    "        if df.tokens[i] in text[j]:\n",
    "            temp_count = text[j].count(df.tokens[i])\n",
    "            if dataset.claim_label[j] == 0:\n",
    "                df.loc[i,'count0']=df.count0[i]+temp_count\n",
    "            elif dataset.claim_label[j] == 1:\n",
    "                df.loc[i,'count1']=df.count1[i]+temp_count\n",
    "            elif dataset.claim_label[j] == 2:\n",
    "                df.loc[i,'count2']=df.count2[i]+temp_count\n",
    "            else:\n",
    "                df.loc[i,'count3']=df.count3[i]+temp_count\n",
    "\n",
    "#Got a table of tokens and labels associated with them. Now, for each token assign the label with highest count->\n",
    "\n",
    "conditions = [\n",
    "    (df['count0']>df['count1'])&(df['count0']>df['count2'])&(df['count0']>df['count3']),\n",
    "    (df['count1']>df['count0'])&(df['count1']>df['count2'])&(df['count1']>df['count3']),\n",
    "    (df['count2']>df['count0'])&(df['count2']>df['count1'])&(df['count2']>df['count3']),\n",
    "    (df['count3']>df['count0'])&(df['count3']>df['count1'])&(df['count3']>df['count2'])\n",
    "     ]\n",
    "values = [0,1,2,3]\n",
    "df['label'] = np.select(conditions,values)"
   ]
  },
  {
   "cell_type": "code",
   "execution_count": 315,
   "metadata": {},
   "outputs": [],
   "source": [
    "#To get test set vectors labels: \n",
    "df_2 = pd.DataFrame(np.column_stack([df['tokens'].tolist(),df['label'].tolist()]))\n",
    "test_label_dict = dict(df_2.values)\n",
    "test_labels = list(map(test_label_dict.get,test_tokens))\n",
    "test_labels = [int(i) for i in test_labels]"
   ]
  },
  {
   "cell_type": "code",
   "execution_count": 277,
   "metadata": {},
   "outputs": [
    {
     "data": {
      "text/plain": [
       "0    119\n",
       "2     26\n",
       "1      1\n",
       "Name: label, dtype: int64"
      ]
     },
     "execution_count": 277,
     "metadata": {},
     "output_type": "execute_result"
    }
   ],
   "source": [
    "df.label.value_counts()"
   ]
  },
  {
   "cell_type": "markdown",
   "metadata": {},
   "source": [
    "From the label values above, it can be observed that most tokens belong to label = 0, with a smaller fraction belonging to label = 2. Label = 1 on the other hand has only one vector. This is the classification breakdown of the testing set embedding. \n",
    "\n",
    "To further evaluate the embedding, recall@k values are found for a few values of k. The code for recall@k is taken from https://github.com/chaoyuaw/incubator-mxnet/blob/master/example/gluon/embedding_learning/train.py."
   ]
  },
  {
   "cell_type": "code",
   "execution_count": 320,
   "metadata": {},
   "outputs": [
    {
     "name": "stdout",
     "output_type": "stream",
     "text": [
      "Recall@1 =  0.6857142857142857 \n",
      "\n",
      "Recall@2 =  0.8285714285714286 \n",
      "\n",
      "Recall@4 =  0.9142857142857143 \n",
      "\n",
      "Recall@8 =  0.9642857142857143 \n",
      "\n",
      "Recall@16 =  0.9928571428571429 \n",
      "\n",
      "Recall@32 =  0.9928571428571429 \n",
      "\n"
     ]
    }
   ],
   "source": [
    "#To get recall@k, first find distance matrix using kneighbors graph:\n",
    "mat = kneighbors_graph(test_vectors, len(test_vectors), metric='cosine', mode='distance', include_self=True)\n",
    "mat = mat.toarray()\n",
    "labels = test_labels\n",
    "\n",
    "accs = []\n",
    "for k in [1,2,4,8,16,32]:\n",
    "    correct,count = 0,0\n",
    "    for i in range(test_vectors.shape[0]-1):\n",
    "        mat[i,i]=1e10\n",
    "        nns = np.argpartition(mat[i],k)[:k]\n",
    "        if any(labels[i]==labels[nn] for nn in nns):\n",
    "            correct += 1\n",
    "        count += 1\n",
    "    accs.append(correct/count)\n",
    "print(\"Recall@1 = \", accs[0],\"\\n\")\n",
    "print(\"Recall@2 = \", accs[1],\"\\n\")\n",
    "print(\"Recall@4 = \", accs[2],\"\\n\")\n",
    "print(\"Recall@8 = \", accs[3],\"\\n\")\n",
    "print(\"Recall@16 = \", accs[4],\"\\n\")\n",
    "print(\"Recall@32 = \", accs[5],\"\\n\")"
   ]
  },
  {
   "cell_type": "markdown",
   "metadata": {},
   "source": [
    "In the above code, the numpy argpartition function separates out the first k indices of the distance values for the ith vector, i.e., allows the next line of code to query the k nearest neighbors of the ith vector. The calculated recall@ values are displayed above. \n",
    "\n",
    "As expected from the embedding, the recall@ value increases sharply with increase in k. This is because most vectors belong to label = 0, and the more the neighbors considered, the higher the proportion of \"correctly\" labeled vectors. On the other hand, the low recall@1 value suggests a significant portion of the nearest neighbors do not belong to the same labels."
   ]
  },
  {
   "cell_type": "markdown",
   "metadata": {},
   "source": [
    "## CM1 Part 3:\n",
    "### Compute 5 arithmetic relationships\n",
    "To further evaluate the quality of the embedding, some arithmetic computations were tried using the word vectors from the whole embedding space. The simple computations were chosen intuitively from the list of high frequency words and the wordcloud in the visualization section. \n",
    "\n",
    "The computations:\n",
    "\n",
    "1) temperature+change-increase=?(expected: cool/cold)\n",
    "\n",
    "2) heat+sea+level=?(rise)\n",
    "\n",
    "3) climate+study=ipcc (since that is the predominant organization in the corpus)\n",
    "\n",
    "4) greenhouse+gas=emission (worked)\n",
    "\n",
    "5) research+study=scientific (worked)"
   ]
  },
  {
   "cell_type": "code",
   "execution_count": 208,
   "metadata": {},
   "outputs": [
    {
     "name": "stdout",
     "output_type": "stream",
     "text": [
      "scientist: 0.9579\n"
     ]
    }
   ],
   "source": [
    "#Arithmetic computations:\n",
    "result = word_vectors.most_similar(positive=['temperature','change'],negative=['increase'])\n",
    "most_similar_key, similarity = result[0]  # look at the first match\n",
    "print(f\"{most_similar_key}: {similarity:.4f}\")"
   ]
  },
  {
   "cell_type": "markdown",
   "metadata": {},
   "source": [
    "The algorithm did not catch the relationships between heat and cold as temperature changes. This may need a larger dataset."
   ]
  },
  {
   "cell_type": "code",
   "execution_count": 348,
   "metadata": {},
   "outputs": [
    {
     "name": "stdout",
     "output_type": "stream",
     "text": [
      "rise: 0.9904\n"
     ]
    }
   ],
   "source": [
    "result = word_vectors.most_similar(positive=['heat','sea','level'])\n",
    "most_similar_key, similarity = result[0]  # look at the first match\n",
    "print(f\"{most_similar_key}: {similarity:.4f}\")"
   ]
  },
  {
   "cell_type": "markdown",
   "metadata": {},
   "source": [
    "The combination of the words sea level and heat resulted in 'rise' which is expected from the claims made in the dataset. "
   ]
  },
  {
   "cell_type": "code",
   "execution_count": 349,
   "metadata": {},
   "outputs": [
    {
     "name": "stdout",
     "output_type": "stream",
     "text": [
      "sheet: 0.9719\n"
     ]
    }
   ],
   "source": [
    "result = word_vectors.most_similar(positive=['ice','temperature'],negative=['cool'])\n",
    "most_similar_key, similarity = result[0] # look at the first match\n",
    "print(f\"{most_similar_key}: {similarity:.4f}\")\n",
    "#expected: melting/melt/water"
   ]
  },
  {
   "cell_type": "markdown",
   "metadata": {},
   "source": [
    "It is expected that if you remove cool from the temperature of ice, the result should be melting, melt, or water etc. This relationship does not seem to have registered with the model. On the other hand, the word resulted in is 'sheet' which should occur in text as ice sheets in the arctic or polar region, which in claims have been mentioned to be melting. That is probably the cause of this result."
   ]
  },
  {
   "cell_type": "code",
   "execution_count": 350,
   "metadata": {},
   "outputs": [
    {
     "name": "stdout",
     "output_type": "stream",
     "text": [
      "emission: 0.9822\n"
     ]
    }
   ],
   "source": [
    "result = word_vectors.most_similar(positive=['gas','greenhouse'])\n",
    "most_similar_key, similarity = result[0]  # look at the first match\n",
    "print(f\"{most_similar_key}: {similarity:.4f}\")"
   ]
  },
  {
   "cell_type": "code",
   "execution_count": 351,
   "metadata": {},
   "outputs": [
    {
     "name": "stdout",
     "output_type": "stream",
     "text": [
      "heat: 0.9946\n"
     ]
    }
   ],
   "source": [
    "result = word_vectors.most_similar(positive=['effect','global'])\n",
    "most_similar_key, similarity = result[0]  # look at the first match\n",
    "print(f\"{most_similar_key}: {similarity:.4f}\")"
   ]
  },
  {
   "cell_type": "markdown",
   "metadata": {},
   "source": [
    "From the trials made to arrive at acceptable intuitive word arithmetic relations, it can be said that there is a lot of room for improvement in the model. The dataset is too small for a deep and meaningful network of words to be formed, which is required to get certain computation results from the model. "
   ]
  },
  {
   "cell_type": "markdown",
   "metadata": {},
   "source": [
    "## CM1 Part 4:\n",
    "### Load pre-trained model, get arithmetic relations scores\n",
    "To compare the effectiveness of pre-trained models in identifying arithmetic relationships between words, the corpus was fed through, i.e., trained using pre-trained models imported from the gensim library (using gensim.downloader()). The 'glove-wiki-gigaword-50' and the 'word2vec-google-news-300' datasets selected from gensim database were used as no Glove and Word2Vec models exist which were trained on the same dataset. The same arithmetic relationships as tried out in the previous part (3) were done using the vectors trained using the pre-trained models, and the results were compared."
   ]
  },
  {
   "cell_type": "code",
   "execution_count": 72,
   "metadata": {},
   "outputs": [],
   "source": [
    "import gensim.downloader as api\n",
    "import json\n",
    "from gensim.test.utils import datapath\n",
    "\n",
    "glove_vectors = api.load('glove-wiki-gigaword-50')\n",
    "wv_vectors = api.load('word2vec-google-news-300')"
   ]
  },
  {
   "cell_type": "code",
   "execution_count": 87,
   "metadata": {},
   "outputs": [],
   "source": [
    "glove_words = list(glove_vectors.vocab.keys())"
   ]
  },
  {
   "cell_type": "code",
   "execution_count": 88,
   "metadata": {},
   "outputs": [],
   "source": [
    "wv_words = list(wv_vectors.vocab.keys())"
   ]
  },
  {
   "cell_type": "code",
   "execution_count": 90,
   "metadata": {},
   "outputs": [],
   "source": [
    "model_1 = Word2Vec(size=50,min_count=1)\n",
    "model_2 = Word2Vec(size=300,min_count=1)\n",
    "\n",
    "model_1.build_vocab(text)\n",
    "model_2.build_vocab(text)\n",
    "\n",
    "total_examples = model_1.corpus_count"
   ]
  },
  {
   "cell_type": "markdown",
   "metadata": {},
   "source": [
    "To save on memory and keep track of each process, the following steps are divided one to each cell. The steps include adding the vocabulary of the pre-trained models with associated weights to the word2vec models instanced above. model_1 corresponds to the pre-trained Glove model and model_2 corresponds to the pre-trained word2vec model."
   ]
  },
  {
   "cell_type": "code",
   "execution_count": null,
   "metadata": {},
   "outputs": [],
   "source": [
    "model_1.build_vocab([glove_words],update=True)"
   ]
  },
  {
   "cell_type": "code",
   "execution_count": 93,
   "metadata": {},
   "outputs": [],
   "source": [
    "model_2.build_vocab([wv_words],update=True)"
   ]
  },
  {
   "cell_type": "code",
   "execution_count": 96,
   "metadata": {},
   "outputs": [],
   "source": [
    "glove_vectors.save_word2vec_format('glove.bin',binary=True)"
   ]
  },
  {
   "cell_type": "code",
   "execution_count": 98,
   "metadata": {},
   "outputs": [],
   "source": [
    "wv_vectors.save_word2vec_format('wvecs.bin',binary=True)"
   ]
  },
  {
   "cell_type": "code",
   "execution_count": 97,
   "metadata": {},
   "outputs": [],
   "source": [
    "model_1.intersect_word2vec_format('glove.bin',binary=True,lockf=1.0)"
   ]
  },
  {
   "cell_type": "code",
   "execution_count": 100,
   "metadata": {},
   "outputs": [],
   "source": [
    "model_2.intersect_word2vec_format('wvecs.bin',binary=True,lockf=1.0)"
   ]
  },
  {
   "cell_type": "code",
   "execution_count": 101,
   "metadata": {},
   "outputs": [
    {
     "data": {
      "text/plain": [
       "(8243, 8243)"
      ]
     },
     "execution_count": 101,
     "metadata": {},
     "output_type": "execute_result"
    }
   ],
   "source": [
    "model_1.train(text, total_examples=total_examples,epochs=1)"
   ]
  },
  {
   "cell_type": "code",
   "execution_count": 102,
   "metadata": {},
   "outputs": [
    {
     "data": {
      "text/plain": [
       "(8220, 8243)"
      ]
     },
     "execution_count": 102,
     "metadata": {},
     "output_type": "execute_result"
    }
   ],
   "source": [
    "model_2.train(text, total_examples=total_examples,epochs=1)"
   ]
  },
  {
   "cell_type": "code",
   "execution_count": 103,
   "metadata": {},
   "outputs": [],
   "source": [
    "glovept_vectors = model_1.wv\n",
    "wvpt_vectors = model_2.wv"
   ]
  },
  {
   "cell_type": "markdown",
   "metadata": {},
   "source": [
    "### Performing the same arithmetic computations using the Glove pre-trained model as on the original trained model,"
   ]
  },
  {
   "cell_type": "code",
   "execution_count": 112,
   "metadata": {},
   "outputs": [
    {
     "name": "stdout",
     "output_type": "stream",
     "text": [
      "cool: 0.7268\n"
     ]
    }
   ],
   "source": [
    "#Arithmetic Computations using pre-trained Glove model:\n",
    "result = glovept_vectors.most_similar(positive=['temperature','change'],negative=['increase'])\n",
    "most_similar_key, similarity = result[0]  # look at the first match\n",
    "print(f\"{most_similar_key}: {similarity:.4f}\")"
   ]
  },
  {
   "cell_type": "code",
   "execution_count": 227,
   "metadata": {},
   "outputs": [
    {
     "name": "stdout",
     "output_type": "stream",
     "text": [
      "water: 0.8375\n"
     ]
    }
   ],
   "source": [
    "result = glovept_vectors.most_similar(positive=['heat','sea','level'])\n",
    "most_similar_key, similarity = result[0]  # look at the first match\n",
    "print(f\"{most_similar_key}: {similarity:.4f}\")"
   ]
  },
  {
   "cell_type": "code",
   "execution_count": 127,
   "metadata": {},
   "outputs": [
    {
     "name": "stdout",
     "output_type": "stream",
     "text": [
      "impact: 0.9176\n"
     ]
    }
   ],
   "source": [
    "result = glovept_vectors.most_similar(positive=['effect','global'])\n",
    "most_similar_key, similarity = result[0]  # look at the first match\n",
    "print(f\"{most_similar_key}: {similarity:.4f}\")"
   ]
  },
  {
   "cell_type": "code",
   "execution_count": 217,
   "metadata": {},
   "outputs": [
    {
     "name": "stdout",
     "output_type": "stream",
     "text": [
      "carbon: 0.9011\n"
     ]
    }
   ],
   "source": [
    "result = glovept_vectors.most_similar(positive=['gas','greenhouse'])\n",
    "most_similar_key, similarity = result[0]  # look at the first match\n",
    "print(f\"{most_similar_key}: {similarity:.4f}\")"
   ]
  },
  {
   "cell_type": "code",
   "execution_count": 224,
   "metadata": {},
   "outputs": [
    {
     "name": "stdout",
     "output_type": "stream",
     "text": [
      "melting: 0.6845\n"
     ]
    }
   ],
   "source": [
    "result = glovept_vectors.most_similar(positive=['ice','temperature'],negative=['cool'])\n",
    "most_similar_key, similarity = result[0] # look at the first match\n",
    "print(f\"{most_similar_key}: {similarity:.4f}\")"
   ]
  },
  {
   "cell_type": "markdown",
   "metadata": {},
   "source": [
    "### Performing the same computations on the Word2Vec pretrained model,"
   ]
  },
  {
   "cell_type": "code",
   "execution_count": 212,
   "metadata": {},
   "outputs": [
    {
     "name": "stdout",
     "output_type": "stream",
     "text": [
      "temperatures: 0.5452\n"
     ]
    }
   ],
   "source": [
    "result = wv_vectors.most_similar(positive=['temperature','change'],negative=['increase'])\n",
    "most_similar_key, similarity = result[0]  # look at the first match\n",
    "print(f\"{most_similar_key}: {similarity:.4f}\")"
   ]
  },
  {
   "cell_type": "code",
   "execution_count": 213,
   "metadata": {},
   "outputs": [
    {
     "name": "stdout",
     "output_type": "stream",
     "text": [
      "GHG_concentrations: 0.5915\n"
     ]
    }
   ],
   "source": [
    "result = wv_vectors.most_similar(positive=['global','warming','sea','level'])\n",
    "most_similar_key, similarity = result[0]  # look at the first match\n",
    "print(f\"{most_similar_key}: {similarity:.4f}\")"
   ]
  },
  {
   "cell_type": "code",
   "execution_count": 214,
   "metadata": {},
   "outputs": [
    {
     "name": "stdout",
     "output_type": "stream",
     "text": [
      "impact: 0.5576\n"
     ]
    }
   ],
   "source": [
    "result = wv_vectors.most_similar(positive=['effect','global'])\n",
    "most_similar_key, similarity = result[0]  # look at the first match\n",
    "print(f\"{most_similar_key}: {similarity:.4f}\")"
   ]
  },
  {
   "cell_type": "code",
   "execution_count": 215,
   "metadata": {},
   "outputs": [
    {
     "name": "stdout",
     "output_type": "stream",
     "text": [
      "natural_gas: 0.6428\n"
     ]
    }
   ],
   "source": [
    "result = wv_vectors.most_similar(positive=['gas','greenhouse'])\n",
    "most_similar_key, similarity = result[0]  # look at the first match\n",
    "print(f\"{most_similar_key}: {similarity:.4f}\")"
   ]
  },
  {
   "cell_type": "code",
   "execution_count": 223,
   "metadata": {},
   "outputs": [
    {
     "name": "stdout",
     "output_type": "stream",
     "text": [
      "temperatures: 0.5141\n"
     ]
    }
   ],
   "source": [
    "result = wv_vectors.most_similar(positive=['ice','temperature'],negative=['cool'])\n",
    "most_similar_key, similarity = result[0] # look at the first match\n",
    "print(f\"{most_similar_key}: {similarity:.4f}\")"
   ]
  },
  {
   "cell_type": "markdown",
   "metadata": {},
   "source": [
    "From the above results (both from glove and word2vec models), the pretraining allowed the arithmetic computations to become more and more relevant, even if the results were not as expected. Notably, the pretraining with the glove model had the best results for the arithmetic computations, which is somewhat expected as the claims in ClimateFever were modeled off of Wikipedia which is what the glove model was trained on. On the other hand, the word2vec pre-trained model is a much larger model trained on a massive number of news articles, which would require quite a few epochs for training. Due to time constraints, only one epoch of training was done and so the effects of using pre-trained models for transfer-learning are not obvious."
   ]
  },
  {
   "cell_type": "markdown",
   "metadata": {},
   "source": [
    "## Question 2:Representation Learning and dimensionality Reduction, Part 1: PCA\n",
    "Principal Component Analysis was performed on the Word2Vec embeddings of the training set split obtained from the previous section. The number of dimensions was tuned using an obtained scree plot from the PCA embedding of train set. The obtained best number of dimensions was used to train the PCA encoder which was applied to the test set to get embeddings for evaluation and comparison with the Word2Vec embeddings. \n",
    "## CM2 Part 1:\n",
    "### Applying PCA on train set W2V embeddings->"
   ]
  },
  {
   "cell_type": "markdown",
   "metadata": {},
   "source": [
    "To do PCA, get the embeddings of train set: train_vectors.\n",
    "\n",
    "Train PCA with different number of components and get scree plot\n",
    "\n",
    "Test PCA on the test set embeddings: test_vectors\n",
    "\n",
    "Get pairplots between first four PCA dimensions (1-2,1-3,1-4,2-3,2-4,3-4)\n",
    "\n",
    "Evaluate PCA embedding using the exact same methods as for w2v embedding:\n",
    "\n",
    "    First check cosine similarity between 3 word pairs out of those already used for w2v\n",
    "    \n",
    "    Second, get knn graph and average cosine similarity for k = 10,50,100\n",
    "    \n",
    "    Third, get knn graph and recall@k\n",
    "    \n",
    "    Fourth, get knn graph and compute knn accuracy"
   ]
  },
  {
   "cell_type": "code",
   "execution_count": 134,
   "metadata": {},
   "outputs": [],
   "source": [
    "from sklearn.decomposition import PCA\n",
    "pca = PCA()\n",
    "train_PCA = pca.fit(train_vectors)\n",
    "eigenvalues = pca.explained_variance_\n",
    "n_components = [i+1 for i in range(len(eigenvalues))]"
   ]
  },
  {
   "cell_type": "markdown",
   "metadata": {},
   "source": [
    "## CM2 Part 2:\n",
    "### Scree plot and identifying best number of components to retain"
   ]
  },
  {
   "cell_type": "code",
   "execution_count": 143,
   "metadata": {},
   "outputs": [
    {
     "data": {
      "image/png": "[encoded data removed]",
      "text/plain": [
       "<Figure size 1440x720 with 1 Axes>"
      ]
     },
     "metadata": {
      "needs_background": "light"
     },
     "output_type": "display_data"
    }
   ],
   "source": [
    "#Scree Plot:\n",
    "fig = plt.figure(figsize=(20,10))\n",
    "plt.plot(n_components,eigenvalues)\n",
    "plt.xticks(n_components);"
   ]
  },
  {
   "cell_type": "markdown",
   "metadata": {},
   "source": [
    "From the Scree plot above, the knee and thus a good number of components to keep is 5. The PCA embedder is trained using the number of components on the training set embeddings:"
   ]
  },
  {
   "cell_type": "code",
   "execution_count": 144,
   "metadata": {},
   "outputs": [],
   "source": [
    "pca2 = PCA(n_components = 5)\n",
    "train_PCA2 = pca2.fit(train_vectors)\n",
    "test_PCA2 = pca2.transform(test_vectors)"
   ]
  },
  {
   "cell_type": "markdown",
   "metadata": {},
   "source": [
    "## CM2 Part 3:\n",
    "### Plotting the first four dimensions against each other (pairplots), "
   ]
  },
  {
   "cell_type": "code",
   "execution_count": 322,
   "metadata": {},
   "outputs": [
    {
     "name": "stderr",
     "output_type": "stream",
     "text": [
      "C:\\ProgramData\\Anaconda3\\lib\\site-packages\\seaborn\\distributions.py:288: UserWarning: Data must have variance to compute a kernel density estimate.\n",
      "  warnings.warn(msg, UserWarning)\n",
      "C:\\ProgramData\\Anaconda3\\lib\\site-packages\\seaborn\\distributions.py:288: UserWarning: Data must have variance to compute a kernel density estimate.\n",
      "  warnings.warn(msg, UserWarning)\n",
      "C:\\ProgramData\\Anaconda3\\lib\\site-packages\\seaborn\\distributions.py:288: UserWarning: Data must have variance to compute a kernel density estimate.\n",
      "  warnings.warn(msg, UserWarning)\n",
      "C:\\ProgramData\\Anaconda3\\lib\\site-packages\\seaborn\\distributions.py:288: UserWarning: Data must have variance to compute a kernel density estimate.\n",
      "  warnings.warn(msg, UserWarning)\n"
     ]
    },
    {
     "data": {
      "image/png": "[encoded data removed]",
      "text/plain": [
       "<Figure size 771.875x720 with 20 Axes>"
      ]
     },
     "metadata": {
      "needs_background": "light"
     },
     "output_type": "display_data"
    }
   ],
   "source": [
    "dim1 = test_PCA2[:,0]\n",
    "dim2 = test_PCA2[:,1]\n",
    "dim3 = test_PCA2[:,2]\n",
    "dim4 = test_PCA2[:,3]\n",
    "\n",
    "dim_df = pd.DataFrame(np.column_stack([dim1,dim2,dim3,dim4,test_labels]),columns=['dim1','dim2','dim3','dim4','label'])\n",
    "\n",
    "def hide_current_axis(*args, **kwds):\n",
    "    plt.gca().set_visible(False)\n",
    "\n",
    "g = sns.pairplot(dim_df,hue='label');\n",
    "g.map_upper(hide_current_axis);\n",
    "g.map_diag(hide_current_axis);"
   ]
  },
  {
   "cell_type": "markdown",
   "metadata": {},
   "source": [
    "From the pairplots, it can be seen that most of the data is tightly clustered around (0,0). There appear to be some outliers at the edges of the plots in all 6 different plots. These four dimensions carry most of the information in the word2vec embeddings as observed from the scree plot where over 75% of the variance is due to the first 4 components. \n",
    "\n",
    "From the plot between the first and second dimensions, it is possible to observe some clusters which tell us that those words are close in meaning and can be distinguished from the others by distance. However the majority of points are uniformly and densely distributed around the center, which shows the need for more training data in the wor2vec model, since the words are not easily distinguishable by distance measures. Similarly, this pattern is somewhat repeated between dimensions one and three, as well as between two and three. This indicates the possibility of local neighborhood associations in the data across dimensions, which will be explored using LLE in the next sections. From the looks of it, there are four distinguishable word clusters."
   ]
  },
  {
   "cell_type": "markdown",
   "metadata": {},
   "source": [
    "## CM2 Part 4:\n",
    "### Evaluating PCA embeddings and comparing to Word2Vec embeddings\n",
    "Using the same measures as on the test set word2vec embeddings, average cosine similarity and recall@k for a range of k values were calculated for the PCA embeddings of the test set. Some conclusions could be made based on the comparison between the two embeddings.\n",
    "\n",
    "Before the kneighbor graph based analysis, a few of the word pairs used as examples of similarity and dissimilarity in CM1 were taken and the cosine similarities between their respective PCA embeddings were found to get a feeling for the differences between the embeddings."
   ]
  },
  {
   "cell_type": "code",
   "execution_count": 343,
   "metadata": {},
   "outputs": [
    {
     "name": "stdout",
     "output_type": "stream",
     "text": [
      "'cool', 'warm': 0.9636\n",
      "\n",
      "'temperature', 'degree': 0.8565\n",
      "\n",
      "'review', 'paper': 0.8429\n",
      "\n",
      "'ocean', 'long': -0.0268\n",
      "\n",
      "'extreme', 'ice': -0.8458\n",
      "\n"
     ]
    }
   ],
   "source": [
    "from scipy.spatial.distance import cosine\n",
    "\n",
    "wordsonlist = ['cool','warm','temperature','degree','review','paper','ocean','long','extreme', 'ice']\n",
    "word_list = pca2.transform(word_vectors[wordsonlist])\n",
    "\n",
    "similarity = 1-cosine(word_list[0],word_list[1])\n",
    "print(f\"'cool', 'warm': {similarity:.4f}\\n\")\n",
    "similarity = 1-cosine(word_list[2],word_list[3])\n",
    "print(f\"'temperature', 'degree': {similarity:.4f}\\n\")\n",
    "similarity = 1-cosine(word_list[4],word_list[5])\n",
    "print(f\"'review', 'paper': {similarity:.4f}\\n\")\n",
    "similarity = 1-cosine(word_list[6],word_list[7])\n",
    "print(f\"'ocean', 'long': {similarity:.4f}\\n\")\n",
    "similarity = 1-cosine(word_list[8],word_list[9])\n",
    "print(f\"'extreme', 'ice': {similarity:.4f}\\n\")"
   ]
  },
  {
   "cell_type": "markdown",
   "metadata": {},
   "source": [
    "From the above examples, it can be seen that the false similarity between 'ocean' and 'long' in the word2vec embeddings has been rectified in the PCA embeddings, while all remaining values are somewhat consistent with their word2vec counterparts."
   ]
  },
  {
   "cell_type": "code",
   "execution_count": 323,
   "metadata": {},
   "outputs": [
    {
     "name": "stdout",
     "output_type": "stream",
     "text": [
      "Average cosine similarity for Word2Vec embedding:\n",
      "\n",
      "k = 1:  0.9646123791417331\n",
      "k = 2:  0.954840693913453\n",
      "k = 4:  0.9389488274324025\n",
      "k = 8:  0.9106956103169326\n",
      "k = 16:  0.8590124684868129\n",
      "k = 32:  0.7561522138879654\n"
     ]
    }
   ],
   "source": [
    "N = [1,2,4,8,16,32]\n",
    "avg_cossim_pca = [0,0,0,0,0,0]\n",
    "for n in [0,1,2,3,4,5]:\n",
    "    #Get neighbors and similarities for all test_vectors using kneighbors graph:\n",
    "    mat = kneighbors_graph(test_PCA2, N[n], metric='cosine', mode='distance', include_self=False)\n",
    "    mat.data = 1 - mat.data  # to similarity\n",
    "    #Getting average cosine similarity between each test_vector and its neighbors:\n",
    "    avg_cossim_pca[n] = mat.sum()/mat.count_nonzero()\n",
    "\n",
    "print(\"Average cosine similarity for Word2Vec embedding:\\n\")\n",
    "print(\"k = 1: \",avg_cossim_pca[0])\n",
    "print(\"k = 2: \",avg_cossim_pca[1])\n",
    "print(\"k = 4: \",avg_cossim_pca[2])\n",
    "print(\"k = 8: \",avg_cossim_pca[3])\n",
    "print(\"k = 16: \",avg_cossim_pca[4])\n",
    "print(\"k = 32: \",avg_cossim_pca[5])"
   ]
  },
  {
   "cell_type": "code",
   "execution_count": 324,
   "metadata": {},
   "outputs": [
    {
     "name": "stdout",
     "output_type": "stream",
     "text": [
      "Recall@1 =  0.7214285714285714 \n",
      "\n",
      "Recall@2 =  0.8571428571428571 \n",
      "\n",
      "Recall@4 =  0.8928571428571429 \n",
      "\n",
      "Recall@8 =  0.95 \n",
      "\n",
      "Recall@16 =  0.9928571428571429 \n",
      "\n",
      "Recall@32 =  0.9928571428571429 \n",
      "\n"
     ]
    }
   ],
   "source": [
    "#To get recall@k, first find distance matrix using kneighbors graph:\n",
    "mat = kneighbors_graph(test_PCA2, len(test_PCA2), metric='cosine', mode='distance', include_self=True)\n",
    "mat = mat.toarray()\n",
    "labels = test_labels\n",
    "\n",
    "accs = []\n",
    "for k in [1,2,4,8,16,32]:\n",
    "    correct,count = 0,0\n",
    "    for i in range(test_PCA2.shape[0]-1):\n",
    "        mat[i,i]=1e10\n",
    "        nns = np.argpartition(mat[i],k)[:k]\n",
    "        if any(labels[i]==labels[nn] for nn in nns):\n",
    "            correct += 1\n",
    "        count += 1\n",
    "    accs.append(correct/count)\n",
    "print(\"Recall@1 = \", accs[0],\"\\n\")\n",
    "print(\"Recall@2 = \", accs[1],\"\\n\")\n",
    "print(\"Recall@4 = \", accs[2],\"\\n\")\n",
    "print(\"Recall@8 = \", accs[3],\"\\n\")\n",
    "print(\"Recall@16 = \", accs[4],\"\\n\")\n",
    "print(\"Recall@32 = \", accs[5],\"\\n\")"
   ]
  },
  {
   "cell_type": "markdown",
   "metadata": {},
   "source": [
    "As compared to the word2vec embedding, the recall@k performance is better for the pca embedding. While it is not that significant, when taken together with the fact that cosine similarity drop off rate with increase in k is higher, it can be concluded that the words with same label as assigned by us are closer together than in the word2vec embeddings and the words are in general more clustered and not spread out through the embedding space. "
   ]
  },
  {
   "cell_type": "markdown",
   "metadata": {},
   "source": [
    "## Question 2:Representation Learning and dimensionality Reduction, Part 2: LLE\n",
    "Locally Linear Embedding implementation from sklearn was used to complete this task with the number of components set to 4 as per the requirements. The other parameters were left as is. It was suggested that the LLE embedding be done on the test set, but as out of sample embedding is possible with the newer versions of the sklearn implementation, the embedding was learnt on the train set and tested on the test set vectors. The four dimensionalities were plotted against each other similar to PCA embedding using sns.pairplot() from seaborn. The embeddings were then compared to the word2vec embeddings based on average cosine similarity for k neighbors and recall@k values.\n",
    "## CM3 Part 1:\n",
    "### Applying LLE embedding (train using train set and apply on test set)"
   ]
  },
  {
   "cell_type": "code",
   "execution_count": 325,
   "metadata": {},
   "outputs": [],
   "source": [
    "from sklearn.manifold import LocallyLinearEmbedding\n",
    "\n",
    "embedding = LocallyLinearEmbedding(n_neighbors=8, n_components=4)\n",
    "embedding.fit(train_vectors)\n",
    "test_LLE = embedding.transform(test_vectors)"
   ]
  },
  {
   "cell_type": "markdown",
   "metadata": {},
   "source": [
    "## CM3 Part 2:\n",
    "### Plotting the four dimensions against each other (pairsplot)"
   ]
  },
  {
   "cell_type": "code",
   "execution_count": 326,
   "metadata": {},
   "outputs": [
    {
     "name": "stderr",
     "output_type": "stream",
     "text": [
      "C:\\ProgramData\\Anaconda3\\lib\\site-packages\\seaborn\\distributions.py:288: UserWarning: Data must have variance to compute a kernel density estimate.\n",
      "  warnings.warn(msg, UserWarning)\n",
      "C:\\ProgramData\\Anaconda3\\lib\\site-packages\\seaborn\\distributions.py:288: UserWarning: Data must have variance to compute a kernel density estimate.\n",
      "  warnings.warn(msg, UserWarning)\n",
      "C:\\ProgramData\\Anaconda3\\lib\\site-packages\\seaborn\\distributions.py:288: UserWarning: Data must have variance to compute a kernel density estimate.\n",
      "  warnings.warn(msg, UserWarning)\n",
      "C:\\ProgramData\\Anaconda3\\lib\\site-packages\\seaborn\\distributions.py:288: UserWarning: Data must have variance to compute a kernel density estimate.\n",
      "  warnings.warn(msg, UserWarning)\n"
     ]
    },
    {
     "data": {
      "image/png": "[encoded data removed]",
      "text/plain": [
       "<Figure size 771.875x720 with 20 Axes>"
      ]
     },
     "metadata": {
      "needs_background": "light"
     },
     "output_type": "display_data"
    }
   ],
   "source": [
    "dim1 = test_LLE[:,0]\n",
    "dim2 = test_LLE[:,1]\n",
    "dim3 = test_LLE[:,2]\n",
    "dim4 = test_LLE[:,3]\n",
    "\n",
    "dim_df = pd.DataFrame(np.column_stack([dim1,dim2,dim3,dim4,test_labels]),columns=['dim1','dim2','dim3','dim4','label'])\n",
    "\n",
    "g = sns.pairplot(dim_df,hue='label');\n",
    "g.map_upper(hide_current_axis);\n",
    "g.map_diag(hide_current_axis);"
   ]
  },
  {
   "cell_type": "markdown",
   "metadata": {},
   "source": [
    "The expectations from the PCA dimensionality pairsplot were validated here. It is clear from the LLE embedding that the Word2Vec embedding space is a manifold along some dimensions. The LLE embedding preserved the neighborhood grouping of the test vectors while extracting the nonlinear features from the word2vec embedding. "
   ]
  },
  {
   "cell_type": "markdown",
   "metadata": {},
   "source": [
    "## CM3 Part 3:\n",
    "### Evaluating LLE embeddings and comparing to Word2Vec embeddings\n",
    "Similar to the PCA and Word2Vec embeddings, the LLE embedding was first analyzed by checking similarity between preciously used word pairs. The kneighbors graph of the embedding was used to get average cosine similarity and recall@ for a range of k values such that the embedding can be evaluated. "
   ]
  },
  {
   "cell_type": "code",
   "execution_count": 353,
   "metadata": {},
   "outputs": [
    {
     "name": "stdout",
     "output_type": "stream",
     "text": [
      "'cool', 'warm': 0.9852\n",
      "\n",
      "'temperature', 'degree': 0.9719\n",
      "\n",
      "'review', 'paper': 0.9915\n",
      "\n",
      "'ocean', 'long': -0.1466\n",
      "\n",
      "'extreme', 'ice': -0.7541\n",
      "\n"
     ]
    }
   ],
   "source": [
    "wordsonlist = ['cool','warm','temperature','degree','review','paper','ocean','long','extreme', 'ice']\n",
    "word_list2 = embedding.transform(word_vectors[wordsonlist])\n",
    "\n",
    "similarity = 1-cosine(word_list2[0],word_list2[1])\n",
    "print(f\"'cool', 'warm': {similarity:.4f}\\n\")\n",
    "similarity = 1-cosine(word_list2[2],word_list2[3])\n",
    "print(f\"'temperature', 'degree': {similarity:.4f}\\n\")\n",
    "similarity = 1-cosine(word_list2[4],word_list2[5])\n",
    "print(f\"'review', 'paper': {similarity:.4f}\\n\")\n",
    "similarity = 1-cosine(word_list2[6],word_list2[7])\n",
    "print(f\"'ocean', 'long': {similarity:.4f}\\n\")\n",
    "similarity = 1-cosine(word_list2[8],word_list2[9])\n",
    "print(f\"'extreme', 'ice': {similarity:.4f}\\n\")"
   ]
  },
  {
   "cell_type": "markdown",
   "metadata": {},
   "source": [
    "From the comparison between the similarity values from PCA and Word2Vec, the values above seem much better- as obvious connections between 'review' and 'paper', 'cool' and 'warm' seem to have become much closer, while words like 'ocean' and 'long' are still apart, much farther away compared to the word2vec trained model. Continuing to find the kneighbors graph and find average similarity and recall@k,"
   ]
  },
  {
   "cell_type": "code",
   "execution_count": 354,
   "metadata": {},
   "outputs": [
    {
     "name": "stdout",
     "output_type": "stream",
     "text": [
      "Average cosine similarity for LLE embedding:\n",
      "\n",
      "k = 1:  0.9958865274328151\n",
      "k = 2:  0.994644284229007\n",
      "k = 4:  0.982189873705279\n",
      "k = 8:  0.9689975560864362\n",
      "k = 16:  0.9254033708997275\n",
      "k = 32:  0.8081003041264355\n"
     ]
    }
   ],
   "source": [
    "N = [1,2,4,8,16,32]\n",
    "avg_cossim_LLE = [0,0,0,0,0,0]\n",
    "for n in [0,1,2,3,4,5]:\n",
    "    #Get neighbors and similarities for all test_vectors using kneighbors graph:\n",
    "    mat = kneighbors_graph(test_LLE, N[n], metric='cosine', mode='distance', include_self=False)\n",
    "    mat.data = 1 - mat.data  # to similarity\n",
    "    #Getting average cosine similarity between each test_vector and its neighbors:\n",
    "    avg_cossim_LLE[n] = mat.sum()/mat.count_nonzero()\n",
    "\n",
    "print(\"Average cosine similarity for LLE embedding:\\n\")\n",
    "print(\"k = 1: \",avg_cossim_LLE[0])\n",
    "print(\"k = 2: \",avg_cossim_LLE[1])\n",
    "print(\"k = 4: \",avg_cossim_LLE[2])\n",
    "print(\"k = 8: \",avg_cossim_LLE[3])\n",
    "print(\"k = 16: \",avg_cossim_LLE[4])\n",
    "print(\"k = 32: \",avg_cossim_LLE[5])"
   ]
  },
  {
   "cell_type": "code",
   "execution_count": 355,
   "metadata": {},
   "outputs": [
    {
     "name": "stdout",
     "output_type": "stream",
     "text": [
      "Recall@1 =  0.6714285714285714 \n",
      "\n",
      "Recall@2 =  0.8428571428571429 \n",
      "\n",
      "Recall@4 =  0.8785714285714286 \n",
      "\n",
      "Recall@8 =  0.95 \n",
      "\n",
      "Recall@16 =  0.9857142857142858 \n",
      "\n",
      "Recall@32 =  0.9928571428571429 \n",
      "\n"
     ]
    }
   ],
   "source": [
    "#To get recall@k, first find distance matrix using kneighbors graph:\n",
    "mat = kneighbors_graph(test_LLE, len(test_LLE), metric='cosine', mode='distance', include_self=True)\n",
    "mat = mat.toarray()\n",
    "labels = test_labels\n",
    "\n",
    "accs = []\n",
    "for k in [1,2,4,8,16,32]:\n",
    "    correct,count = 0,0\n",
    "    for i in range(test_PCA2.shape[0]-1):\n",
    "        mat[i,i]=1e10\n",
    "        nns = np.argpartition(mat[i],k)[:k]\n",
    "        if any(labels[i]==labels[nn] for nn in nns):\n",
    "            correct += 1\n",
    "        count += 1\n",
    "    accs.append(correct/count)\n",
    "print(\"Recall@1 = \", accs[0],\"\\n\")\n",
    "print(\"Recall@2 = \", accs[1],\"\\n\")\n",
    "print(\"Recall@4 = \", accs[2],\"\\n\")\n",
    "print(\"Recall@8 = \", accs[3],\"\\n\")\n",
    "print(\"Recall@16 = \", accs[4],\"\\n\")\n",
    "print(\"Recall@32 = \", accs[5],\"\\n\")"
   ]
  },
  {
   "cell_type": "markdown",
   "metadata": {},
   "source": [
    "The jump in recall@ after k=8 is because the number of neighbors for the embedder was set to 8. Since the LLE does local neighborhood grouping, recall@ increases sharply after k=8. The values of average similarity are also greater for LLE embeddings than both either PCA or Word2Vec embeddings. This shows that the LLE embedding preserves the linear distances very well when reducing the dimensionality, thereby bunching similar words closer together providing meaningful context as observed from the examples at the first step of evaluation."
   ]
  },
  {
   "cell_type": "markdown",
   "metadata": {},
   "source": [
    "## Question 2:Representation Learning and dimensionality Reduction, Part 3: t-SNE\n",
    "In contrast to PCA and LLE, t-Distributed Stochastic Neighbor Embedding is mainly used for visualization of high-dimensional data. The Barnes-Hut approximation method used for real world datasets is in fact limited to two or three dimensional embeddings. The t-SNE is a probabilistic method and pays particular attention to maintaining the local data clusters, rather than unfolding any continuous manifolds as observed in LLE embedding. As the method aims to solve the crowding problem and does so convincingly, it would be better to have a two dimensional embedding of the word2vec embeddings. \n",
    "## CM4 Part 1:\n",
    "### Applying t-SNE on word2vec embeddings (n_components = 2)\n",
    "Since out-of-sample embedding cannot be done using this method, the t-SNE is applied on the test set embeddings. The number of embedding dimensions is two, due to the above discussed reasons. The sklearn implementation of t-SNE was used with the perplexity set to 8, as it is somewhat related to the number of neighbors taken in other methods and provides the (visually) best scatter plot, and random_state=0. "
   ]
  },
  {
   "cell_type": "code",
   "execution_count": 387,
   "metadata": {},
   "outputs": [],
   "source": [
    "from sklearn.manifold import TSNE\n",
    "tsne = TSNE(n_components=2,random_state=0,metric='euclidean',perplexity=8)\n",
    "test_TSNE = tsne.fit_transform(test_vectors)"
   ]
  },
  {
   "cell_type": "markdown",
   "metadata": {},
   "source": [
    "## CM4 Part 2:\n",
    "### Visualize the t-SNE embedding"
   ]
  },
  {
   "cell_type": "code",
   "execution_count": 388,
   "metadata": {},
   "outputs": [
    {
     "data": {
      "image/png": "[encoded data removed]",
      "text/plain": [
       "<Figure size 720x720 with 1 Axes>"
      ]
     },
     "metadata": {
      "needs_background": "light"
     },
     "output_type": "display_data"
    }
   ],
   "source": [
    "fig = plt.figure(figsize=(10,10))\n",
    "plt.scatter(test_TSNE[:,0],test_TSNE[:,1]);"
   ]
  },
  {
   "cell_type": "markdown",
   "metadata": {},
   "source": [
    "Since the algorithm is non-linear and operated differently in regions according to the local patterns, the distances between the observed clusters as well as the relative sizes of the clusters are not accurate representations of actual relationships. We can observe from the plot somewhere near 12 clusters for the 141 token test vectors set, which could be the actual number of overarching topics represented by the dataset. "
   ]
  },
  {
   "cell_type": "markdown",
   "metadata": {},
   "source": [
    "## CM4 Part 3:\n",
    "### Evaluating t-SNE embedding and comparing it to word2vec embedding->\n",
    "Although the distances are somewhat meaningless when it comes to the t-SNE embeddings, the cosine similarities are still valid in evaluating the embeddings. The kneighbors graph was found for the embedding and the average similarities and recall@k values were found."
   ]
  },
  {
   "cell_type": "code",
   "execution_count": 389,
   "metadata": {},
   "outputs": [
    {
     "name": "stdout",
     "output_type": "stream",
     "text": [
      "Average cosine similarity for TSNE embedding:\n",
      "\n",
      "k = 1:  0.9992532933011968\n",
      "k = 2:  0.9982206736896055\n",
      "k = 4:  0.9965437219498006\n",
      "k = 8:  0.991042657946864\n",
      "k = 16:  0.9740849488170434\n",
      "k = 32:  0.9167746685920878\n"
     ]
    }
   ],
   "source": [
    "N = [1,2,4,8,16,32]\n",
    "avg_cossim_TSNE = [0,0,0,0,0,0]\n",
    "for n in [0,1,2,3,4,5]:\n",
    "    #Get neighbors and similarities for all test_vectors using kneighbors graph:\n",
    "    mat = kneighbors_graph(test_TSNE, N[n], metric='cosine', mode='distance', include_self=False)\n",
    "    mat.data = 1 - mat.data  # to similarity\n",
    "    #Getting average cosine similarity between each test_vector and its neighbors:\n",
    "    avg_cossim_TSNE[n] = mat.sum()/mat.count_nonzero()\n",
    "\n",
    "print(\"Average cosine similarity for TSNE embedding:\\n\")\n",
    "print(\"k = 1: \",avg_cossim_TSNE[0])\n",
    "print(\"k = 2: \",avg_cossim_TSNE[1])\n",
    "print(\"k = 4: \",avg_cossim_TSNE[2])\n",
    "print(\"k = 8: \",avg_cossim_TSNE[3])\n",
    "print(\"k = 16: \",avg_cossim_TSNE[4])\n",
    "print(\"k = 32: \",avg_cossim_TSNE[5])"
   ]
  },
  {
   "cell_type": "markdown",
   "metadata": {},
   "source": [
    "As expected from the embedding, the average similarities between each vector and its neighbors are extremely high, at least at below and around the perplexity value, as lower perplexity leads to more local focus rather than global. Comparing to all other methods, this has the highest average cosine similarity."
   ]
  },
  {
   "cell_type": "code",
   "execution_count": 390,
   "metadata": {},
   "outputs": [
    {
     "name": "stdout",
     "output_type": "stream",
     "text": [
      "Recall@1 =  0.6928571428571428 \n",
      "\n",
      "Recall@2 =  0.8357142857142857 \n",
      "\n",
      "Recall@4 =  0.9071428571428571 \n",
      "\n",
      "Recall@8 =  0.9428571428571428 \n",
      "\n",
      "Recall@16 =  0.9857142857142858 \n",
      "\n",
      "Recall@32 =  0.9928571428571429 \n",
      "\n"
     ]
    }
   ],
   "source": [
    "#To get recall@k, first find distance matrix using kneighbors graph:\n",
    "mat = kneighbors_graph(test_TSNE, len(test_TSNE), metric='cosine', mode='distance', include_self=True)\n",
    "mat = mat.toarray()\n",
    "labels = test_labels\n",
    "\n",
    "accs = []\n",
    "for k in [1,2,4,8,16,32]:\n",
    "    correct,count = 0,0\n",
    "    for i in range(test_TSNE.shape[0]-1):\n",
    "        mat[i,i]=1e10\n",
    "        nns = np.argpartition(mat[i],k)[:k]\n",
    "        if any(labels[i]==labels[nn] for nn in nns):\n",
    "            correct += 1\n",
    "        count += 1\n",
    "    accs.append(correct/count)\n",
    "print(\"Recall@1 = \", accs[0],\"\\n\")\n",
    "print(\"Recall@2 = \", accs[1],\"\\n\")\n",
    "print(\"Recall@4 = \", accs[2],\"\\n\")\n",
    "print(\"Recall@8 = \", accs[3],\"\\n\")\n",
    "print(\"Recall@16 = \", accs[4],\"\\n\")\n",
    "print(\"Recall@32 = \", accs[5],\"\\n\")"
   ]
  },
  {
   "cell_type": "markdown",
   "metadata": {},
   "source": [
    "The recall@ values are comparable to the other models, but still the recall@8 is less than that of the LLE embedding and word2vec embedding, which is because of the relative inattention of the algorithm to global patterns in the embedding space. However there is not a significant difference due to most labels being 0 and only a few labels being otherwise. "
   ]
  }
 ],
 "metadata": {
  "kernelspec": {
   "display_name": "Python 3",
   "language": "python",
   "name": "python3"
  },
  "language_info": {
   "codemirror_mode": {
    "name": "ipython",
    "version": 3
   },
   "file_extension": ".py",
   "mimetype": "text/x-python",
   "name": "python",
   "nbconvert_exporter": "python",
   "pygments_lexer": "ipython3",
   "version": "3.8.8"
  }
 },
 "nbformat": 4,
 "nbformat_minor": 4
}
